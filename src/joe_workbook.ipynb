{
 "cells": [
  {
   "cell_type": "code",
   "execution_count": 45,
   "metadata": {},
   "outputs": [],
   "source": [
    "import  datetime            as dt\n",
    "import  json\n",
    "import  matplotlib.pyplot   as plt\n",
    "import  numpy               as np\n",
    "import  os\n",
    "import  pandas              as pd\n",
    "import  model_utility, color_utility, visuals_utility, data_utility\n",
    "import  requests\n",
    "import  seaborn             as sns\n",
    "import  time\n",
    "\n",
    "from    dotenv                      import load_dotenv\n",
    "from    sklearn.model_selection     import train_test_split\n",
    "from    sklearn.ensemble            import RandomForestClassifier\n",
    "from    sklearn.metrics             import accuracy_score\n",
    "#from    sklearn.preprocessing       import StandardScaler"
   ]
  },
  {
   "cell_type": "code",
   "execution_count": 46,
   "metadata": {},
   "outputs": [
    {
     "data": {
      "text/plain": [
       "'1a1888cbff5d4fe0a3fbef4fa6d4f786'"
      ]
     },
     "metadata": {},
     "output_type": "display_data"
    }
   ],
   "source": [
    "# Set environment variables from the .env in the local environment\n",
    "load_dotenv()\n",
    "\n",
    "# Set default values\n",
    "nfl_api_key     = os.getenv(\"SDIO_NFL_API_KEY\")\n",
    "nfl_api_url     = \"https://api.sportsdata.io/v3/nfl/\"\n",
    "api_feature     = \"scores\"\n",
    "\n",
    "display(nfl_api_key)"
   ]
  },
  {
   "cell_type": "markdown",
   "metadata": {},
   "source": [
    "### Data Retrieval\n",
    "Data is retrieved for each individual week of each season \n",
    "using the following url and querystring:\n",
    "\n",
    "https://api.sportsdata.io/v3/nfl/scores/json/ScoresByWeek/2023/1?key=\n",
    "\n",
    "Referee data only exists for seasons 2020 and beyond.\n",
    "2020 was the final 17-week season before the schedule was changed to add week 18."
   ]
  },
  {
   "cell_type": "code",
   "execution_count": 47,
   "metadata": {},
   "outputs": [
    {
     "data": {
      "text/plain": [
       "'2020 Season -------------------------------------------------'"
      ]
     },
     "metadata": {},
     "output_type": "display_data"
    },
    {
     "data": {
      "text/plain": [
       "'Season 2020 | Week 1: Retrieved'"
      ]
     },
     "metadata": {},
     "output_type": "display_data"
    },
    {
     "data": {
      "text/plain": [
       "'Season 2020 | Week 2: Retrieved'"
      ]
     },
     "metadata": {},
     "output_type": "display_data"
    },
    {
     "data": {
      "text/plain": [
       "'Season 2020 | Week 3: Retrieved'"
      ]
     },
     "metadata": {},
     "output_type": "display_data"
    },
    {
     "data": {
      "text/plain": [
       "'Season 2020 | Week 4: Retrieved'"
      ]
     },
     "metadata": {},
     "output_type": "display_data"
    },
    {
     "data": {
      "text/plain": [
       "'Season 2020 | Week 5: Retrieved'"
      ]
     },
     "metadata": {},
     "output_type": "display_data"
    },
    {
     "data": {
      "text/plain": [
       "'Season 2020 | Week 6: Retrieved'"
      ]
     },
     "metadata": {},
     "output_type": "display_data"
    },
    {
     "data": {
      "text/plain": [
       "'Season 2020 | Week 7: Retrieved'"
      ]
     },
     "metadata": {},
     "output_type": "display_data"
    },
    {
     "data": {
      "text/plain": [
       "'Season 2020 | Week 8: Retrieved'"
      ]
     },
     "metadata": {},
     "output_type": "display_data"
    },
    {
     "data": {
      "text/plain": [
       "'Season 2020 | Week 9: Retrieved'"
      ]
     },
     "metadata": {},
     "output_type": "display_data"
    },
    {
     "data": {
      "text/plain": [
       "'Season 2020 | Week 10: Retrieved'"
      ]
     },
     "metadata": {},
     "output_type": "display_data"
    },
    {
     "data": {
      "text/plain": [
       "'Season 2020 | Week 11: Retrieved'"
      ]
     },
     "metadata": {},
     "output_type": "display_data"
    },
    {
     "data": {
      "text/plain": [
       "'Season 2020 | Week 12: Retrieved'"
      ]
     },
     "metadata": {},
     "output_type": "display_data"
    },
    {
     "data": {
      "text/plain": [
       "'Season 2020 | Week 13: Retrieved'"
      ]
     },
     "metadata": {},
     "output_type": "display_data"
    },
    {
     "data": {
      "text/plain": [
       "'Season 2020 | Week 14: Retrieved'"
      ]
     },
     "metadata": {},
     "output_type": "display_data"
    },
    {
     "data": {
      "text/plain": [
       "'Season 2020 | Week 15: Retrieved'"
      ]
     },
     "metadata": {},
     "output_type": "display_data"
    },
    {
     "data": {
      "text/plain": [
       "'Season 2020 | Week 16: Retrieved'"
      ]
     },
     "metadata": {},
     "output_type": "display_data"
    },
    {
     "data": {
      "text/plain": [
       "'Season 2020 | Week 17: Retrieved'"
      ]
     },
     "metadata": {},
     "output_type": "display_data"
    },
    {
     "data": {
      "text/plain": [
       "'2021 Season -------------------------------------------------'"
      ]
     },
     "metadata": {},
     "output_type": "display_data"
    },
    {
     "data": {
      "text/plain": [
       "'Season 2021 | Week 1: Retrieved'"
      ]
     },
     "metadata": {},
     "output_type": "display_data"
    },
    {
     "data": {
      "text/plain": [
       "'Season 2021 | Week 2: Retrieved'"
      ]
     },
     "metadata": {},
     "output_type": "display_data"
    },
    {
     "data": {
      "text/plain": [
       "'Season 2021 | Week 3: Retrieved'"
      ]
     },
     "metadata": {},
     "output_type": "display_data"
    },
    {
     "data": {
      "text/plain": [
       "'Season 2021 | Week 4: Retrieved'"
      ]
     },
     "metadata": {},
     "output_type": "display_data"
    },
    {
     "data": {
      "text/plain": [
       "'Season 2021 | Week 5: Retrieved'"
      ]
     },
     "metadata": {},
     "output_type": "display_data"
    },
    {
     "data": {
      "text/plain": [
       "'Season 2021 | Week 6: Retrieved'"
      ]
     },
     "metadata": {},
     "output_type": "display_data"
    },
    {
     "data": {
      "text/plain": [
       "'Season 2021 | Week 7: Retrieved'"
      ]
     },
     "metadata": {},
     "output_type": "display_data"
    },
    {
     "data": {
      "text/plain": [
       "'Season 2021 | Week 8: Retrieved'"
      ]
     },
     "metadata": {},
     "output_type": "display_data"
    },
    {
     "data": {
      "text/plain": [
       "'Season 2021 | Week 9: Retrieved'"
      ]
     },
     "metadata": {},
     "output_type": "display_data"
    },
    {
     "data": {
      "text/plain": [
       "'Season 2021 | Week 10: Retrieved'"
      ]
     },
     "metadata": {},
     "output_type": "display_data"
    },
    {
     "data": {
      "text/plain": [
       "'Season 2021 | Week 11: Retrieved'"
      ]
     },
     "metadata": {},
     "output_type": "display_data"
    },
    {
     "data": {
      "text/plain": [
       "'Season 2021 | Week 12: Retrieved'"
      ]
     },
     "metadata": {},
     "output_type": "display_data"
    },
    {
     "data": {
      "text/plain": [
       "'Season 2021 | Week 13: Retrieved'"
      ]
     },
     "metadata": {},
     "output_type": "display_data"
    },
    {
     "data": {
      "text/plain": [
       "'Season 2021 | Week 14: Retrieved'"
      ]
     },
     "metadata": {},
     "output_type": "display_data"
    },
    {
     "data": {
      "text/plain": [
       "'Season 2021 | Week 15: Retrieved'"
      ]
     },
     "metadata": {},
     "output_type": "display_data"
    },
    {
     "data": {
      "text/plain": [
       "'Season 2021 | Week 16: Retrieved'"
      ]
     },
     "metadata": {},
     "output_type": "display_data"
    },
    {
     "data": {
      "text/plain": [
       "'Season 2021 | Week 17: Retrieved'"
      ]
     },
     "metadata": {},
     "output_type": "display_data"
    },
    {
     "data": {
      "text/plain": [
       "'Season 2021 | Week 18: Retrieved'"
      ]
     },
     "metadata": {},
     "output_type": "display_data"
    },
    {
     "data": {
      "text/plain": [
       "'2022 Season -------------------------------------------------'"
      ]
     },
     "metadata": {},
     "output_type": "display_data"
    },
    {
     "data": {
      "text/plain": [
       "'Season 2022 | Week 1: Retrieved'"
      ]
     },
     "metadata": {},
     "output_type": "display_data"
    },
    {
     "data": {
      "text/plain": [
       "'Season 2022 | Week 2: Retrieved'"
      ]
     },
     "metadata": {},
     "output_type": "display_data"
    },
    {
     "data": {
      "text/plain": [
       "'Season 2022 | Week 3: Retrieved'"
      ]
     },
     "metadata": {},
     "output_type": "display_data"
    },
    {
     "data": {
      "text/plain": [
       "'Season 2022 | Week 4: Retrieved'"
      ]
     },
     "metadata": {},
     "output_type": "display_data"
    },
    {
     "data": {
      "text/plain": [
       "'Season 2022 | Week 5: Retrieved'"
      ]
     },
     "metadata": {},
     "output_type": "display_data"
    },
    {
     "data": {
      "text/plain": [
       "'Season 2022 | Week 6: Retrieved'"
      ]
     },
     "metadata": {},
     "output_type": "display_data"
    },
    {
     "data": {
      "text/plain": [
       "'Season 2022 | Week 7: Retrieved'"
      ]
     },
     "metadata": {},
     "output_type": "display_data"
    },
    {
     "data": {
      "text/plain": [
       "'Season 2022 | Week 8: Retrieved'"
      ]
     },
     "metadata": {},
     "output_type": "display_data"
    },
    {
     "data": {
      "text/plain": [
       "'Season 2022 | Week 9: Retrieved'"
      ]
     },
     "metadata": {},
     "output_type": "display_data"
    },
    {
     "data": {
      "text/plain": [
       "'Season 2022 | Week 10: Retrieved'"
      ]
     },
     "metadata": {},
     "output_type": "display_data"
    },
    {
     "data": {
      "text/plain": [
       "'Season 2022 | Week 11: Retrieved'"
      ]
     },
     "metadata": {},
     "output_type": "display_data"
    },
    {
     "data": {
      "text/plain": [
       "'Season 2022 | Week 12: Retrieved'"
      ]
     },
     "metadata": {},
     "output_type": "display_data"
    },
    {
     "data": {
      "text/plain": [
       "'Season 2022 | Week 13: Retrieved'"
      ]
     },
     "metadata": {},
     "output_type": "display_data"
    },
    {
     "data": {
      "text/plain": [
       "'Season 2022 | Week 14: Retrieved'"
      ]
     },
     "metadata": {},
     "output_type": "display_data"
    },
    {
     "data": {
      "text/plain": [
       "'Season 2022 | Week 15: Retrieved'"
      ]
     },
     "metadata": {},
     "output_type": "display_data"
    },
    {
     "data": {
      "text/plain": [
       "'Season 2022 | Week 16: Retrieved'"
      ]
     },
     "metadata": {},
     "output_type": "display_data"
    },
    {
     "data": {
      "text/plain": [
       "'Season 2022 | Week 17: Retrieved'"
      ]
     },
     "metadata": {},
     "output_type": "display_data"
    },
    {
     "data": {
      "text/plain": [
       "'Season 2022 | Week 18: Retrieved'"
      ]
     },
     "metadata": {},
     "output_type": "display_data"
    },
    {
     "data": {
      "text/plain": [
       "'2023 Season -------------------------------------------------'"
      ]
     },
     "metadata": {},
     "output_type": "display_data"
    },
    {
     "data": {
      "text/plain": [
       "'Season 2023 | Week 1: Retrieved'"
      ]
     },
     "metadata": {},
     "output_type": "display_data"
    },
    {
     "data": {
      "text/plain": [
       "'Season 2023 | Week 2: Retrieved'"
      ]
     },
     "metadata": {},
     "output_type": "display_data"
    },
    {
     "data": {
      "text/plain": [
       "'Season 2023 | Week 3: Retrieved'"
      ]
     },
     "metadata": {},
     "output_type": "display_data"
    },
    {
     "data": {
      "text/plain": [
       "'Season 2023 | Week 4: Retrieved'"
      ]
     },
     "metadata": {},
     "output_type": "display_data"
    },
    {
     "data": {
      "text/plain": [
       "'Season 2023 | Week 5: Retrieved'"
      ]
     },
     "metadata": {},
     "output_type": "display_data"
    },
    {
     "data": {
      "text/plain": [
       "'Season 2023 | Week 6: Retrieved'"
      ]
     },
     "metadata": {},
     "output_type": "display_data"
    },
    {
     "data": {
      "text/plain": [
       "'Season 2023 | Week 7: Retrieved'"
      ]
     },
     "metadata": {},
     "output_type": "display_data"
    },
    {
     "data": {
      "text/plain": [
       "'Season 2023 | Week 8: Retrieved'"
      ]
     },
     "metadata": {},
     "output_type": "display_data"
    },
    {
     "data": {
      "text/plain": [
       "'Season 2023 | Week 9: Retrieved'"
      ]
     },
     "metadata": {},
     "output_type": "display_data"
    },
    {
     "data": {
      "text/plain": [
       "'Season 2023 | Week 10: Retrieved'"
      ]
     },
     "metadata": {},
     "output_type": "display_data"
    },
    {
     "data": {
      "text/plain": [
       "'Season 2023 | Week 11: Retrieved'"
      ]
     },
     "metadata": {},
     "output_type": "display_data"
    },
    {
     "data": {
      "text/plain": [
       "'Season 2023 | Week 12: Retrieved'"
      ]
     },
     "metadata": {},
     "output_type": "display_data"
    },
    {
     "data": {
      "text/plain": [
       "'Season 2023 | Week 13: Retrieved'"
      ]
     },
     "metadata": {},
     "output_type": "display_data"
    },
    {
     "data": {
      "text/plain": [
       "'Season 2023 | Week 14: Retrieved'"
      ]
     },
     "metadata": {},
     "output_type": "display_data"
    },
    {
     "data": {
      "text/plain": [
       "'Season 2023 | Week 15: Retrieved'"
      ]
     },
     "metadata": {},
     "output_type": "display_data"
    },
    {
     "data": {
      "text/plain": [
       "'Season 2023 | Week 16: Retrieved'"
      ]
     },
     "metadata": {},
     "output_type": "display_data"
    },
    {
     "data": {
      "text/plain": [
       "'Season 2023 | Week 17: Retrieved'"
      ]
     },
     "metadata": {},
     "output_type": "display_data"
    },
    {
     "data": {
      "text/plain": [
       "'Season 2023 | Week 18: Retrieved'"
      ]
     },
     "metadata": {},
     "output_type": "display_data"
    },
    {
     "data": {
      "text/html": [
       "<div>\n",
       "<style scoped>\n",
       "    .dataframe tbody tr th:only-of-type {\n",
       "        vertical-align: middle;\n",
       "    }\n",
       "\n",
       "    .dataframe tbody tr th {\n",
       "        vertical-align: top;\n",
       "    }\n",
       "\n",
       "    .dataframe thead th {\n",
       "        text-align: right;\n",
       "    }\n",
       "</style>\n",
       "<table border=\"1\" class=\"dataframe\">\n",
       "  <thead>\n",
       "    <tr style=\"text-align: right;\">\n",
       "      <th></th>\n",
       "      <th>GameKey</th>\n",
       "      <th>Season</th>\n",
       "      <th>Week</th>\n",
       "      <th>Date</th>\n",
       "      <th>GameEndDateTime</th>\n",
       "      <th>Status</th>\n",
       "      <th>RefereeID</th>\n",
       "      <th>AwayTeamID</th>\n",
       "      <th>AwayTeam</th>\n",
       "      <th>HomeTeamID</th>\n",
       "      <th>HomeTeam</th>\n",
       "      <th>AwayScore</th>\n",
       "      <th>HomeScore</th>\n",
       "      <th>StadiumID</th>\n",
       "    </tr>\n",
       "  </thead>\n",
       "  <tbody>\n",
       "    <tr>\n",
       "      <th>0</th>\n",
       "      <td>202010116</td>\n",
       "      <td>2020</td>\n",
       "      <td>1</td>\n",
       "      <td>2020-09-10T20:20:00</td>\n",
       "      <td>2020-09-11T00:05:13</td>\n",
       "      <td>Final</td>\n",
       "      <td>10.0</td>\n",
       "      <td>13</td>\n",
       "      <td>HOU</td>\n",
       "      <td>16</td>\n",
       "      <td>KC</td>\n",
       "      <td>27.0</td>\n",
       "      <td>47.0</td>\n",
       "      <td>15</td>\n",
       "    </tr>\n",
       "    <tr>\n",
       "      <th>1</th>\n",
       "      <td>202010102</td>\n",
       "      <td>2020</td>\n",
       "      <td>1</td>\n",
       "      <td>2020-09-13T13:00:00</td>\n",
       "      <td>2020-09-13T16:10:05</td>\n",
       "      <td>Final</td>\n",
       "      <td>51.0</td>\n",
       "      <td>30</td>\n",
       "      <td>SEA</td>\n",
       "      <td>2</td>\n",
       "      <td>ATL</td>\n",
       "      <td>52.0</td>\n",
       "      <td>34.0</td>\n",
       "      <td>45</td>\n",
       "    </tr>\n",
       "    <tr>\n",
       "      <th>2</th>\n",
       "      <td>202010104</td>\n",
       "      <td>2020</td>\n",
       "      <td>1</td>\n",
       "      <td>2020-09-13T13:00:00</td>\n",
       "      <td>2020-09-13T16:13:39</td>\n",
       "      <td>Final</td>\n",
       "      <td>101.0</td>\n",
       "      <td>24</td>\n",
       "      <td>NYJ</td>\n",
       "      <td>4</td>\n",
       "      <td>BUF</td>\n",
       "      <td>23.0</td>\n",
       "      <td>37.0</td>\n",
       "      <td>1</td>\n",
       "    </tr>\n",
       "    <tr>\n",
       "      <th>3</th>\n",
       "      <td>202010111</td>\n",
       "      <td>2020</td>\n",
       "      <td>1</td>\n",
       "      <td>2020-09-13T13:00:00</td>\n",
       "      <td>2020-09-13T16:18:59</td>\n",
       "      <td>Final</td>\n",
       "      <td>59.0</td>\n",
       "      <td>6</td>\n",
       "      <td>CHI</td>\n",
       "      <td>11</td>\n",
       "      <td>DET</td>\n",
       "      <td>37.0</td>\n",
       "      <td>31.0</td>\n",
       "      <td>21</td>\n",
       "    </tr>\n",
       "    <tr>\n",
       "      <th>4</th>\n",
       "      <td>202010120</td>\n",
       "      <td>2020</td>\n",
       "      <td>1</td>\n",
       "      <td>2020-09-13T13:00:00</td>\n",
       "      <td>2020-09-13T16:14:52</td>\n",
       "      <td>Final</td>\n",
       "      <td>112.0</td>\n",
       "      <td>12</td>\n",
       "      <td>GB</td>\n",
       "      <td>20</td>\n",
       "      <td>MIN</td>\n",
       "      <td>59.0</td>\n",
       "      <td>47.0</td>\n",
       "      <td>42</td>\n",
       "    </tr>\n",
       "  </tbody>\n",
       "</table>\n",
       "</div>"
      ],
      "text/plain": [
       "     GameKey  Season  Week                 Date      GameEndDateTime Status  \\\n",
       "0  202010116    2020     1  2020-09-10T20:20:00  2020-09-11T00:05:13  Final   \n",
       "1  202010102    2020     1  2020-09-13T13:00:00  2020-09-13T16:10:05  Final   \n",
       "2  202010104    2020     1  2020-09-13T13:00:00  2020-09-13T16:13:39  Final   \n",
       "3  202010111    2020     1  2020-09-13T13:00:00  2020-09-13T16:18:59  Final   \n",
       "4  202010120    2020     1  2020-09-13T13:00:00  2020-09-13T16:14:52  Final   \n",
       "\n",
       "   RefereeID  AwayTeamID AwayTeam  HomeTeamID HomeTeam  AwayScore  HomeScore  \\\n",
       "0       10.0          13      HOU          16       KC       27.0       47.0   \n",
       "1       51.0          30      SEA           2      ATL       52.0       34.0   \n",
       "2      101.0          24      NYJ           4      BUF       23.0       37.0   \n",
       "3       59.0           6      CHI          11      DET       37.0       31.0   \n",
       "4      112.0          12       GB          20      MIN       59.0       47.0   \n",
       "\n",
       "   StadiumID  \n",
       "0         15  \n",
       "1         45  \n",
       "2          1  \n",
       "3         21  \n",
       "4         42  "
      ]
     },
     "metadata": {},
     "output_type": "display_data"
    }
   ],
   "source": [
    "# Initialize variables\n",
    "nfl_year        = 2020\n",
    "nfl_week        = 1\n",
    "weekly_scores = []\n",
    "\n",
    "#game_scores_df = response_df[\n",
    "#    [\n",
    "#          \"GameKey\", \"Season\", \"Week\", \"Date\", \"GameEndDateTime\", \"Status\", \"RefereeID\"\n",
    "#        , \"AwayTeamID\", \"AwayTeam\", \"HomeTeamID\", \"HomeTeam\", \"AwayScore\", \"HomeScore\"\n",
    "#        #, \"Channel\", \"PointSpread\", \"OverUnder\"\n",
    "#        #, \"OverPayout\", \"UnderPayout\"\n",
    "#        , \"StadiumID\"#, \"StadiumDetails.StadiumID\", \"StadiumDetails.Name\", \"StadiumDetails.City\", \"StadiumDetails.State\"\n",
    "#        #, \"StadiumDetails.Capacity\", \"StadiumDetails.GeoLat\", \"StadiumDetails.GeoLong\"\n",
    "#        #, \"StadiumDetails.Type\", \"StadiumDetails.PlayingSurface\"\n",
    "#    ]\n",
    "#]\n",
    "\n",
    "# Loop through each season from 2020 to 2023\n",
    "for x in range(4):\n",
    "    season = nfl_year + x\n",
    "    display(f\"{season} Season -------------------------------------------------\")\n",
    "    \n",
    "    # Loop through each week of the season\n",
    "    for y in range(18):\n",
    "        week        = nfl_week + y\n",
    "        \n",
    "        if (week < 18) or (season > 2020) : # Do not attempt to retrieve Week 18 of 2020 season\n",
    "            # Assemble url + querystring and retrieve\n",
    "            query_url   = f\"{nfl_api_url}{api_feature}/json/ScoresByWeek/{season}/{week}?key={nfl_api_key}\"\n",
    "            response    = requests.get(query_url).json()\n",
    "            response_df = pd.json_normalize(response)\n",
    "\n",
    "            # Show progress\n",
    "            display(f\"Season {season} | Week {week}: Retrieved\", display_id=\"Output\")\n",
    "\n",
    "            # Append data to Weekly Scores list\n",
    "            weekly_scores.append (\n",
    "                response_df[\n",
    "                    [\n",
    "                          \"GameKey\"\n",
    "                        , \"Season\"\n",
    "                        , \"Week\"\n",
    "                        , \"Date\"\n",
    "                        , \"GameEndDateTime\"\n",
    "                        , \"Status\"\n",
    "                        , \"RefereeID\"\n",
    "                        , \"AwayTeamID\"\n",
    "                        , \"AwayTeam\"\n",
    "                        , \"HomeTeamID\"\n",
    "                        , \"HomeTeam\"\n",
    "                        , \"AwayScore\"\n",
    "                        , \"HomeScore\"\n",
    "                        , \"StadiumID\"\n",
    "                    ]\n",
    "                ]\n",
    "            )\n",
    " # Add weekly scores to all game scores\n",
    "game_scores_df = pd.concat(weekly_scores, ignore_index=True)\n",
    "display(game_scores_df.head())"
   ]
  },
  {
   "cell_type": "code",
   "execution_count": 75,
   "metadata": {},
   "outputs": [
    {
     "data": {
      "text/html": [
       "<div>\n",
       "<style scoped>\n",
       "    .dataframe tbody tr th:only-of-type {\n",
       "        vertical-align: middle;\n",
       "    }\n",
       "\n",
       "    .dataframe tbody tr th {\n",
       "        vertical-align: top;\n",
       "    }\n",
       "\n",
       "    .dataframe thead th {\n",
       "        text-align: right;\n",
       "    }\n",
       "</style>\n",
       "<table border=\"1\" class=\"dataframe\">\n",
       "  <thead>\n",
       "    <tr style=\"text-align: right;\">\n",
       "      <th></th>\n",
       "      <th>GameKey</th>\n",
       "      <th>Season</th>\n",
       "      <th>Week</th>\n",
       "      <th>Date</th>\n",
       "      <th>GameEndDateTime</th>\n",
       "      <th>Status</th>\n",
       "      <th>RefereeID</th>\n",
       "      <th>AwayTeamID</th>\n",
       "      <th>AwayTeam</th>\n",
       "      <th>HomeTeamID</th>\n",
       "      <th>HomeTeam</th>\n",
       "      <th>AwayScore</th>\n",
       "      <th>HomeScore</th>\n",
       "      <th>StadiumID</th>\n",
       "      <th>WinningTeamID</th>\n",
       "      <th>WinningTeam</th>\n",
       "      <th>HomeTeamWin</th>\n",
       "    </tr>\n",
       "  </thead>\n",
       "  <tbody>\n",
       "    <tr>\n",
       "      <th>0</th>\n",
       "      <td>202010116</td>\n",
       "      <td>2020</td>\n",
       "      <td>1</td>\n",
       "      <td>2020-09-10T20:20:00</td>\n",
       "      <td>2020-09-11T00:05:13</td>\n",
       "      <td>Final</td>\n",
       "      <td>10.0</td>\n",
       "      <td>13</td>\n",
       "      <td>HOU</td>\n",
       "      <td>16</td>\n",
       "      <td>KC</td>\n",
       "      <td>27.0</td>\n",
       "      <td>47.0</td>\n",
       "      <td>15</td>\n",
       "      <td>16</td>\n",
       "      <td>KC</td>\n",
       "      <td>1</td>\n",
       "    </tr>\n",
       "    <tr>\n",
       "      <th>1</th>\n",
       "      <td>202010102</td>\n",
       "      <td>2020</td>\n",
       "      <td>1</td>\n",
       "      <td>2020-09-13T13:00:00</td>\n",
       "      <td>2020-09-13T16:10:05</td>\n",
       "      <td>Final</td>\n",
       "      <td>51.0</td>\n",
       "      <td>30</td>\n",
       "      <td>SEA</td>\n",
       "      <td>2</td>\n",
       "      <td>ATL</td>\n",
       "      <td>52.0</td>\n",
       "      <td>34.0</td>\n",
       "      <td>45</td>\n",
       "      <td>30</td>\n",
       "      <td>SEA</td>\n",
       "      <td>0</td>\n",
       "    </tr>\n",
       "    <tr>\n",
       "      <th>2</th>\n",
       "      <td>202010104</td>\n",
       "      <td>2020</td>\n",
       "      <td>1</td>\n",
       "      <td>2020-09-13T13:00:00</td>\n",
       "      <td>2020-09-13T16:13:39</td>\n",
       "      <td>Final</td>\n",
       "      <td>101.0</td>\n",
       "      <td>24</td>\n",
       "      <td>NYJ</td>\n",
       "      <td>4</td>\n",
       "      <td>BUF</td>\n",
       "      <td>23.0</td>\n",
       "      <td>37.0</td>\n",
       "      <td>1</td>\n",
       "      <td>4</td>\n",
       "      <td>BUF</td>\n",
       "      <td>1</td>\n",
       "    </tr>\n",
       "    <tr>\n",
       "      <th>3</th>\n",
       "      <td>202010111</td>\n",
       "      <td>2020</td>\n",
       "      <td>1</td>\n",
       "      <td>2020-09-13T13:00:00</td>\n",
       "      <td>2020-09-13T16:18:59</td>\n",
       "      <td>Final</td>\n",
       "      <td>59.0</td>\n",
       "      <td>6</td>\n",
       "      <td>CHI</td>\n",
       "      <td>11</td>\n",
       "      <td>DET</td>\n",
       "      <td>37.0</td>\n",
       "      <td>31.0</td>\n",
       "      <td>21</td>\n",
       "      <td>6</td>\n",
       "      <td>CHI</td>\n",
       "      <td>0</td>\n",
       "    </tr>\n",
       "    <tr>\n",
       "      <th>4</th>\n",
       "      <td>202010120</td>\n",
       "      <td>2020</td>\n",
       "      <td>1</td>\n",
       "      <td>2020-09-13T13:00:00</td>\n",
       "      <td>2020-09-13T16:14:52</td>\n",
       "      <td>Final</td>\n",
       "      <td>112.0</td>\n",
       "      <td>12</td>\n",
       "      <td>GB</td>\n",
       "      <td>20</td>\n",
       "      <td>MIN</td>\n",
       "      <td>59.0</td>\n",
       "      <td>47.0</td>\n",
       "      <td>42</td>\n",
       "      <td>12</td>\n",
       "      <td>GB</td>\n",
       "      <td>0</td>\n",
       "    </tr>\n",
       "    <tr>\n",
       "      <th>...</th>\n",
       "      <td>...</td>\n",
       "      <td>...</td>\n",
       "      <td>...</td>\n",
       "      <td>...</td>\n",
       "      <td>...</td>\n",
       "      <td>...</td>\n",
       "      <td>...</td>\n",
       "      <td>...</td>\n",
       "      <td>...</td>\n",
       "      <td>...</td>\n",
       "      <td>...</td>\n",
       "      <td>...</td>\n",
       "      <td>...</td>\n",
       "      <td>...</td>\n",
       "      <td>...</td>\n",
       "      <td>...</td>\n",
       "      <td>...</td>\n",
       "    </tr>\n",
       "    <tr>\n",
       "      <th>1076</th>\n",
       "      <td>202311829</td>\n",
       "      <td>2023</td>\n",
       "      <td>18</td>\n",
       "      <td>2024-01-07T16:25:00</td>\n",
       "      <td>2024-01-07T19:24:47</td>\n",
       "      <td>Final</td>\n",
       "      <td>76.0</td>\n",
       "      <td>16</td>\n",
       "      <td>KC</td>\n",
       "      <td>29</td>\n",
       "      <td>LAC</td>\n",
       "      <td>20.0</td>\n",
       "      <td>19.0</td>\n",
       "      <td>54</td>\n",
       "      <td>16</td>\n",
       "      <td>KC</td>\n",
       "      <td>0</td>\n",
       "    </tr>\n",
       "    <tr>\n",
       "      <th>1077</th>\n",
       "      <td>202311831</td>\n",
       "      <td>2023</td>\n",
       "      <td>18</td>\n",
       "      <td>2024-01-07T16:25:00</td>\n",
       "      <td>2024-01-07T19:19:12</td>\n",
       "      <td>Final</td>\n",
       "      <td>66.0</td>\n",
       "      <td>32</td>\n",
       "      <td>LAR</td>\n",
       "      <td>31</td>\n",
       "      <td>SF</td>\n",
       "      <td>33.0</td>\n",
       "      <td>31.0</td>\n",
       "      <td>37</td>\n",
       "      <td>32</td>\n",
       "      <td>LAR</td>\n",
       "      <td>0</td>\n",
       "    </tr>\n",
       "    <tr>\n",
       "      <th>1078</th>\n",
       "      <td>202311835</td>\n",
       "      <td>2023</td>\n",
       "      <td>18</td>\n",
       "      <td>2024-01-07T16:25:00</td>\n",
       "      <td>2024-01-07T19:11:16</td>\n",
       "      <td>Final</td>\n",
       "      <td>101.0</td>\n",
       "      <td>9</td>\n",
       "      <td>DAL</td>\n",
       "      <td>35</td>\n",
       "      <td>WAS</td>\n",
       "      <td>60.0</td>\n",
       "      <td>16.0</td>\n",
       "      <td>19</td>\n",
       "      <td>9</td>\n",
       "      <td>DAL</td>\n",
       "      <td>0</td>\n",
       "    </tr>\n",
       "    <tr>\n",
       "      <th>1079</th>\n",
       "      <td>202311805</td>\n",
       "      <td>2023</td>\n",
       "      <td>18</td>\n",
       "      <td>2024-01-07T13:00:00</td>\n",
       "      <td>2024-01-07T15:38:17</td>\n",
       "      <td>Final</td>\n",
       "      <td>10.0</td>\n",
       "      <td>33</td>\n",
       "      <td>TB</td>\n",
       "      <td>5</td>\n",
       "      <td>CAR</td>\n",
       "      <td>14.0</td>\n",
       "      <td>0.0</td>\n",
       "      <td>26</td>\n",
       "      <td>33</td>\n",
       "      <td>TB</td>\n",
       "      <td>0</td>\n",
       "    </tr>\n",
       "    <tr>\n",
       "      <th>1080</th>\n",
       "      <td>202311803</td>\n",
       "      <td>2023</td>\n",
       "      <td>18</td>\n",
       "      <td>2024-01-06T16:30:00</td>\n",
       "      <td>2024-01-06T19:30:29</td>\n",
       "      <td>Final</td>\n",
       "      <td>1.0</td>\n",
       "      <td>28</td>\n",
       "      <td>PIT</td>\n",
       "      <td>3</td>\n",
       "      <td>BAL</td>\n",
       "      <td>27.0</td>\n",
       "      <td>16.0</td>\n",
       "      <td>7</td>\n",
       "      <td>28</td>\n",
       "      <td>PIT</td>\n",
       "      <td>0</td>\n",
       "    </tr>\n",
       "  </tbody>\n",
       "</table>\n",
       "<p>1081 rows × 17 columns</p>\n",
       "</div>"
      ],
      "text/plain": [
       "        GameKey  Season  Week                 Date      GameEndDateTime  \\\n",
       "0     202010116    2020     1  2020-09-10T20:20:00  2020-09-11T00:05:13   \n",
       "1     202010102    2020     1  2020-09-13T13:00:00  2020-09-13T16:10:05   \n",
       "2     202010104    2020     1  2020-09-13T13:00:00  2020-09-13T16:13:39   \n",
       "3     202010111    2020     1  2020-09-13T13:00:00  2020-09-13T16:18:59   \n",
       "4     202010120    2020     1  2020-09-13T13:00:00  2020-09-13T16:14:52   \n",
       "...         ...     ...   ...                  ...                  ...   \n",
       "1076  202311829    2023    18  2024-01-07T16:25:00  2024-01-07T19:24:47   \n",
       "1077  202311831    2023    18  2024-01-07T16:25:00  2024-01-07T19:19:12   \n",
       "1078  202311835    2023    18  2024-01-07T16:25:00  2024-01-07T19:11:16   \n",
       "1079  202311805    2023    18  2024-01-07T13:00:00  2024-01-07T15:38:17   \n",
       "1080  202311803    2023    18  2024-01-06T16:30:00  2024-01-06T19:30:29   \n",
       "\n",
       "     Status  RefereeID  AwayTeamID AwayTeam  HomeTeamID HomeTeam  AwayScore  \\\n",
       "0     Final       10.0          13      HOU          16       KC       27.0   \n",
       "1     Final       51.0          30      SEA           2      ATL       52.0   \n",
       "2     Final      101.0          24      NYJ           4      BUF       23.0   \n",
       "3     Final       59.0           6      CHI          11      DET       37.0   \n",
       "4     Final      112.0          12       GB          20      MIN       59.0   \n",
       "...     ...        ...         ...      ...         ...      ...        ...   \n",
       "1076  Final       76.0          16       KC          29      LAC       20.0   \n",
       "1077  Final       66.0          32      LAR          31       SF       33.0   \n",
       "1078  Final      101.0           9      DAL          35      WAS       60.0   \n",
       "1079  Final       10.0          33       TB           5      CAR       14.0   \n",
       "1080  Final        1.0          28      PIT           3      BAL       27.0   \n",
       "\n",
       "      HomeScore  StadiumID  WinningTeamID WinningTeam  HomeTeamWin  \n",
       "0          47.0         15             16          KC            1  \n",
       "1          34.0         45             30         SEA            0  \n",
       "2          37.0          1              4         BUF            1  \n",
       "3          31.0         21              6         CHI            0  \n",
       "4          47.0         42             12          GB            0  \n",
       "...         ...        ...            ...         ...          ...  \n",
       "1076       19.0         54             16          KC            0  \n",
       "1077       31.0         37             32         LAR            0  \n",
       "1078       16.0         19              9         DAL            0  \n",
       "1079        0.0         26             33          TB            0  \n",
       "1080       16.0          7             28         PIT            0  \n",
       "\n",
       "[1081 rows x 17 columns]"
      ]
     },
     "metadata": {},
     "output_type": "display_data"
    }
   ],
   "source": [
    "#game_scores_df.dtypes\n",
    "\n",
    "def get_winner_id(row):\n",
    "    if row[\"AwayScore\"] > row[\"HomeScore\"] :\n",
    "        return int(row[\"AwayTeamID\"])\n",
    "    elif row[\"AwayScore\"] < row[\"HomeScore\"] :\n",
    "        return int(row[\"HomeTeamID\"])\n",
    "    else :\n",
    "        return 0\n",
    "    \n",
    "def get_winner(row):\n",
    "    if row[\"AwayScore\"] > row[\"HomeScore\"] :\n",
    "        return row[\"AwayTeam\"]\n",
    "    elif row[\"AwayScore\"] < row[\"HomeScore\"] :\n",
    "        return row[\"HomeTeam\"]\n",
    "    else :\n",
    "        return None\n",
    "    \n",
    "def home_team_win(row):\n",
    "    if row[\"AwayScore\"] < row[\"HomeScore\"] :\n",
    "        return 1\n",
    "    else :\n",
    "        return 0\n",
    "\n",
    "# Add column to store winning team's ID\n",
    "game_scores_df[\"WinningTeamID\"] = game_scores_df.apply(get_winner_id, axis = 1)\n",
    "game_scores_df[\"WinningTeam\"]   = game_scores_df.apply(get_winner   , axis = 1)\n",
    "game_scores_df[\"HomeTeamWin\"]   = game_scores_df.apply(home_team_win, axis = 1)\n",
    "display(game_scores_df)\n"
   ]
  },
  {
   "cell_type": "code",
   "execution_count": 77,
   "metadata": {},
   "outputs": [
    {
     "name": "stdout",
     "output_type": "stream",
     "text": [
      "<class 'pandas.core.frame.DataFrame'>\n",
      "RangeIndex: 1081 entries, 0 to 1080\n",
      "Data columns (total 17 columns):\n",
      " #   Column           Non-Null Count  Dtype  \n",
      "---  ------           --------------  -----  \n",
      " 0   GameKey          1074 non-null   object \n",
      " 1   Season           1081 non-null   int64  \n",
      " 2   Week             1081 non-null   int64  \n",
      " 3   Date             1081 non-null   object \n",
      " 4   GameEndDateTime  1071 non-null   object \n",
      " 5   Status           1081 non-null   object \n",
      " 6   RefereeID        1071 non-null   float64\n",
      " 7   AwayTeamID       1081 non-null   int64  \n",
      " 8   AwayTeam         1081 non-null   object \n",
      " 9   HomeTeamID       1081 non-null   int64  \n",
      " 10  HomeTeam         1081 non-null   object \n",
      " 11  AwayScore        1072 non-null   float64\n",
      " 12  HomeScore        1072 non-null   float64\n",
      " 13  StadiumID        1081 non-null   int64  \n",
      " 14  WinningTeamID    1081 non-null   int64  \n",
      " 15  WinningTeam      1045 non-null   object \n",
      " 16  HomeTeamWin      1081 non-null   int64  \n",
      "dtypes: float64(3), int64(7), object(7)\n",
      "memory usage: 143.7+ KB\n"
     ]
    }
   ],
   "source": [
    "game_scores_df.info()"
   ]
  },
  {
   "cell_type": "markdown",
   "metadata": {},
   "source": [
    "### Feature Selection"
   ]
  },
  {
   "cell_type": "code",
   "execution_count": 79,
   "metadata": {},
   "outputs": [
    {
     "name": "stdout",
     "output_type": "stream",
     "text": [
      "<class 'pandas.core.frame.DataFrame'>\n",
      "RangeIndex: 1044 entries, 0 to 1043\n",
      "Data columns (total 9 columns):\n",
      " #   Column         Non-Null Count  Dtype \n",
      "---  ------         --------------  ----- \n",
      " 0   AwayTeamID     1044 non-null   int64 \n",
      " 1   AwayTeam       1044 non-null   object\n",
      " 2   HomeTeamID     1044 non-null   int64 \n",
      " 3   HomeTeam       1044 non-null   object\n",
      " 4   WinningTeamID  1044 non-null   int64 \n",
      " 5   WinningTeam    1044 non-null   object\n",
      " 6   HomeTeamWin    1044 non-null   int64 \n",
      " 7   StadiumID      1044 non-null   int64 \n",
      " 8   RefereeID      1044 non-null   int32 \n",
      "dtypes: int32(1), int64(5), object(3)\n",
      "memory usage: 69.5+ KB\n"
     ]
    },
    {
     "data": {
      "text/html": [
       "<div>\n",
       "<style scoped>\n",
       "    .dataframe tbody tr th:only-of-type {\n",
       "        vertical-align: middle;\n",
       "    }\n",
       "\n",
       "    .dataframe tbody tr th {\n",
       "        vertical-align: top;\n",
       "    }\n",
       "\n",
       "    .dataframe thead th {\n",
       "        text-align: right;\n",
       "    }\n",
       "</style>\n",
       "<table border=\"1\" class=\"dataframe\">\n",
       "  <thead>\n",
       "    <tr style=\"text-align: right;\">\n",
       "      <th></th>\n",
       "      <th>AwayTeamID</th>\n",
       "      <th>AwayTeam</th>\n",
       "      <th>HomeTeamID</th>\n",
       "      <th>HomeTeam</th>\n",
       "      <th>WinningTeamID</th>\n",
       "      <th>WinningTeam</th>\n",
       "      <th>HomeTeamWin</th>\n",
       "      <th>StadiumID</th>\n",
       "      <th>RefereeID</th>\n",
       "    </tr>\n",
       "  </thead>\n",
       "  <tbody>\n",
       "    <tr>\n",
       "      <th>0</th>\n",
       "      <td>13</td>\n",
       "      <td>HOU</td>\n",
       "      <td>16</td>\n",
       "      <td>KC</td>\n",
       "      <td>16</td>\n",
       "      <td>KC</td>\n",
       "      <td>1</td>\n",
       "      <td>15</td>\n",
       "      <td>10</td>\n",
       "    </tr>\n",
       "    <tr>\n",
       "      <th>1</th>\n",
       "      <td>30</td>\n",
       "      <td>SEA</td>\n",
       "      <td>2</td>\n",
       "      <td>ATL</td>\n",
       "      <td>30</td>\n",
       "      <td>SEA</td>\n",
       "      <td>0</td>\n",
       "      <td>45</td>\n",
       "      <td>51</td>\n",
       "    </tr>\n",
       "    <tr>\n",
       "      <th>2</th>\n",
       "      <td>24</td>\n",
       "      <td>NYJ</td>\n",
       "      <td>4</td>\n",
       "      <td>BUF</td>\n",
       "      <td>4</td>\n",
       "      <td>BUF</td>\n",
       "      <td>1</td>\n",
       "      <td>1</td>\n",
       "      <td>101</td>\n",
       "    </tr>\n",
       "    <tr>\n",
       "      <th>3</th>\n",
       "      <td>6</td>\n",
       "      <td>CHI</td>\n",
       "      <td>11</td>\n",
       "      <td>DET</td>\n",
       "      <td>6</td>\n",
       "      <td>CHI</td>\n",
       "      <td>0</td>\n",
       "      <td>21</td>\n",
       "      <td>59</td>\n",
       "    </tr>\n",
       "    <tr>\n",
       "      <th>4</th>\n",
       "      <td>12</td>\n",
       "      <td>GB</td>\n",
       "      <td>20</td>\n",
       "      <td>MIN</td>\n",
       "      <td>12</td>\n",
       "      <td>GB</td>\n",
       "      <td>0</td>\n",
       "      <td>42</td>\n",
       "      <td>112</td>\n",
       "    </tr>\n",
       "    <tr>\n",
       "      <th>...</th>\n",
       "      <td>...</td>\n",
       "      <td>...</td>\n",
       "      <td>...</td>\n",
       "      <td>...</td>\n",
       "      <td>...</td>\n",
       "      <td>...</td>\n",
       "      <td>...</td>\n",
       "      <td>...</td>\n",
       "      <td>...</td>\n",
       "    </tr>\n",
       "    <tr>\n",
       "      <th>1039</th>\n",
       "      <td>16</td>\n",
       "      <td>KC</td>\n",
       "      <td>29</td>\n",
       "      <td>LAC</td>\n",
       "      <td>16</td>\n",
       "      <td>KC</td>\n",
       "      <td>0</td>\n",
       "      <td>54</td>\n",
       "      <td>76</td>\n",
       "    </tr>\n",
       "    <tr>\n",
       "      <th>1040</th>\n",
       "      <td>32</td>\n",
       "      <td>LAR</td>\n",
       "      <td>31</td>\n",
       "      <td>SF</td>\n",
       "      <td>32</td>\n",
       "      <td>LAR</td>\n",
       "      <td>0</td>\n",
       "      <td>37</td>\n",
       "      <td>66</td>\n",
       "    </tr>\n",
       "    <tr>\n",
       "      <th>1041</th>\n",
       "      <td>9</td>\n",
       "      <td>DAL</td>\n",
       "      <td>35</td>\n",
       "      <td>WAS</td>\n",
       "      <td>9</td>\n",
       "      <td>DAL</td>\n",
       "      <td>0</td>\n",
       "      <td>19</td>\n",
       "      <td>101</td>\n",
       "    </tr>\n",
       "    <tr>\n",
       "      <th>1042</th>\n",
       "      <td>33</td>\n",
       "      <td>TB</td>\n",
       "      <td>5</td>\n",
       "      <td>CAR</td>\n",
       "      <td>33</td>\n",
       "      <td>TB</td>\n",
       "      <td>0</td>\n",
       "      <td>26</td>\n",
       "      <td>10</td>\n",
       "    </tr>\n",
       "    <tr>\n",
       "      <th>1043</th>\n",
       "      <td>28</td>\n",
       "      <td>PIT</td>\n",
       "      <td>3</td>\n",
       "      <td>BAL</td>\n",
       "      <td>28</td>\n",
       "      <td>PIT</td>\n",
       "      <td>0</td>\n",
       "      <td>7</td>\n",
       "      <td>1</td>\n",
       "    </tr>\n",
       "  </tbody>\n",
       "</table>\n",
       "<p>1044 rows × 9 columns</p>\n",
       "</div>"
      ],
      "text/plain": [
       "      AwayTeamID AwayTeam  HomeTeamID HomeTeam  WinningTeamID WinningTeam  \\\n",
       "0             13      HOU          16       KC             16          KC   \n",
       "1             30      SEA           2      ATL             30         SEA   \n",
       "2             24      NYJ           4      BUF              4         BUF   \n",
       "3              6      CHI          11      DET              6         CHI   \n",
       "4             12       GB          20      MIN             12          GB   \n",
       "...          ...      ...         ...      ...            ...         ...   \n",
       "1039          16       KC          29      LAC             16          KC   \n",
       "1040          32      LAR          31       SF             32         LAR   \n",
       "1041           9      DAL          35      WAS              9         DAL   \n",
       "1042          33       TB           5      CAR             33          TB   \n",
       "1043          28      PIT           3      BAL             28         PIT   \n",
       "\n",
       "      HomeTeamWin  StadiumID  RefereeID  \n",
       "0               1         15         10  \n",
       "1               0         45         51  \n",
       "2               1          1        101  \n",
       "3               0         21         59  \n",
       "4               0         42        112  \n",
       "...           ...        ...        ...  \n",
       "1039            0         54         76  \n",
       "1040            0         37         66  \n",
       "1041            0         19        101  \n",
       "1042            0         26         10  \n",
       "1043            0          7          1  \n",
       "\n",
       "[1044 rows x 9 columns]"
      ]
     },
     "metadata": {},
     "output_type": "display_data"
    }
   ],
   "source": [
    "# Data Preprocessing : Create DataFrame with features and target variable\n",
    "\n",
    "features = [\n",
    "    #, \"Date\"\n",
    "    #, \"Status\"\n",
    "     \"AwayTeamID\"\n",
    "    , \"AwayTeam\"\n",
    "    #, \"AwayScore\"\n",
    "    , \"HomeTeamID\"\n",
    "    , \"HomeTeam\"\n",
    "    #, \"HomeScore\"\n",
    "    , \"WinningTeamID\"\n",
    "    , \"WinningTeam\"\n",
    "    , \"HomeTeamWin\"\n",
    "    , \"StadiumID\"\n",
    "    , \"RefereeID\"\n",
    "]\n",
    "\n",
    "referee_scores_df = game_scores_df[features].copy()\n",
    "referee_scores_df.dropna(inplace=True)\n",
    "referee_scores_df.reset_index(drop=True, inplace=True)\n",
    "referee_scores_df[\"RefereeID\"] = referee_scores_df[\"RefereeID\"].astype(int)\n",
    "referee_scores_df.info()\n",
    "display(referee_scores_df)\n"
   ]
  },
  {
   "cell_type": "code",
   "execution_count": 82,
   "metadata": {},
   "outputs": [
    {
     "data": {
      "text/plain": [
       "HomeTeamWin\n",
       "1    558\n",
       "0    486\n",
       "Name: count, dtype: int64"
      ]
     },
     "metadata": {},
     "output_type": "display_data"
    },
    {
     "name": "stdout",
     "output_type": "stream",
     "text": [
      "HomeTeamWin\n",
      "1    53.448276\n",
      "0    46.551724\n",
      "Name: count, dtype: float64\n"
     ]
    }
   ],
   "source": [
    "# Split data into features (X) and target variable (y)\n",
    "referee_scores_df = referee_scores_df.select_dtypes(include='number')\n",
    "X = referee_scores_df.drop(['HomeTeamWin'], axis=1)  # Features\n",
    "y = referee_scores_df['HomeTeamWin']  # Target variable\n",
    "\n",
    "display(y.value_counts())\n",
    "print((y.value_counts() / len(y)) * 100)"
   ]
  },
  {
   "cell_type": "markdown",
   "metadata": {},
   "source": [
    "### Model Selection"
   ]
  },
  {
   "cell_type": "code",
   "execution_count": 84,
   "metadata": {},
   "outputs": [
    {
     "name": "stdout",
     "output_type": "stream",
     "text": [
      "Logistic Regression : accuracy_score : 0.62201\n",
      "Logistic Regression : balanced_accuracy_score : 0.58459\n",
      "\n",
      "SVC : accuracy_score : 0.79904\n",
      "SVC : balanced_accuracy_score : 0.77290\n",
      "\n",
      "KNeighbors Classifier : accuracy_score : 0.83732\n",
      "KNeighbors Classifier : balanced_accuracy_score : 0.83148\n",
      "\n",
      "DecisionTree Classifier : accuracy_score : 0.94258\n",
      "DecisionTree Classifier : balanced_accuracy_score : 0.94407\n",
      "\n",
      "RandomForest Classifier : accuracy_score : 0.94737\n",
      "RandomForest Classifier : balanced_accuracy_score : 0.94486\n",
      "\n"
     ]
    }
   ],
   "source": [
    "# Split data into training and testing sets\n",
    "X_train, X_test, y_train, y_test = train_test_split(\n",
    "    X\n",
    "    , y\n",
    "    , test_size     = 0.2\n",
    "    , random_state  = 42\n",
    "    #, max_iter      = 50\n",
    ")\n",
    "\n",
    "model_results = model_utility.process_models(\n",
    "      model_utility.classification_models\n",
    "    , X_train\n",
    "    , X_test\n",
    "    , y_train\n",
    "    , y_test\n",
    ")\n",
    "\n",
    "for m_name, m_data in model_results.items():\n",
    "    print(f\"{m_name} : accuracy_score : {m_data['accuracy_score']:.5f}\")\n",
    "    print(f\"{m_name} : balanced_accuracy_score : {m_data['balanced_accuracy_score']:.5f}\\n\")"
   ]
  },
  {
   "cell_type": "code",
   "execution_count": 89,
   "metadata": {},
   "outputs": [
    {
     "name": "stderr",
     "output_type": "stream",
     "text": [
      "c:\\Users\\Joe\\anaconda3\\envs\\dev-ai\\Lib\\site-packages\\seaborn\\_oldcore.py:1765: FutureWarning: unique with argument that is not not a Series, Index, ExtensionArray, or np.ndarray is deprecated and will raise in a future version.\n",
      "  order = pd.unique(vector)\n",
      "c:\\Users\\Joe\\anaconda3\\envs\\dev-ai\\Lib\\site-packages\\seaborn\\_oldcore.py:1765: FutureWarning: unique with argument that is not not a Series, Index, ExtensionArray, or np.ndarray is deprecated and will raise in a future version.\n",
      "  order = pd.unique(vector)\n",
      "posx and posy should be finite values\n",
      "posx and posy should be finite values\n",
      "posx and posy should be finite values\n",
      "posx and posy should be finite values\n",
      "posx and posy should be finite values\n",
      "posx and posy should be finite values\n",
      "posx and posy should be finite values\n",
      "posx and posy should be finite values\n"
     ]
    },
    {
     "data": {
      "image/png": "[encoded data removed]",
      "text/plain": [
       "<Figure size 1000x600 with 1 Axes>"
      ]
     },
     "metadata": {},
     "output_type": "display_data"
    }
   ],
   "source": [
    "# visual representation of accuracy scores\n",
    "visuals_utility.show_accuracy_scores(\n",
    "    {m_name:m_data['accuracy_score'] for m_name, m_data in model_results.items()}\n",
    ")\n"
   ]
  },
  {
   "cell_type": "code",
   "execution_count": 90,
   "metadata": {},
   "outputs": [
    {
     "name": "stdout",
     "output_type": "stream",
     "text": [
      "Accuracy: 0.9521531100478469\n"
     ]
    }
   ],
   "source": [
    "# Choose a classification model\n",
    "model = RandomForestClassifier(n_estimators=100)\n",
    "\n",
    "# 4. Model Training\n",
    "\n",
    "\n",
    "# Train the model\n",
    "model.fit(X_train, y_train)\n",
    "\n",
    "# 5. Model Evaluation\n",
    "# Make predictions on the test set\n",
    "y_pred = model.predict(X_test)\n",
    "\n",
    "# Evaluate model performance\n",
    "accuracy = accuracy_score(y_test, y_pred)\n",
    "print(\"Accuracy:\", accuracy)\n"
   ]
  },
  {
   "cell_type": "code",
   "execution_count": 91,
   "metadata": {},
   "outputs": [
    {
     "data": {
      "text/html": [
       "<div>\n",
       "<style scoped>\n",
       "    .dataframe tbody tr th:only-of-type {\n",
       "        vertical-align: middle;\n",
       "    }\n",
       "\n",
       "    .dataframe tbody tr th {\n",
       "        vertical-align: top;\n",
       "    }\n",
       "\n",
       "    .dataframe thead th {\n",
       "        text-align: right;\n",
       "    }\n",
       "</style>\n",
       "<table border=\"1\" class=\"dataframe\">\n",
       "  <thead>\n",
       "    <tr style=\"text-align: right;\">\n",
       "      <th></th>\n",
       "      <th>AwayTeamID</th>\n",
       "      <th>HomeTeamID</th>\n",
       "      <th>WinningTeamID</th>\n",
       "      <th>HomeTeamWin</th>\n",
       "      <th>StadiumID</th>\n",
       "    </tr>\n",
       "  </thead>\n",
       "  <tbody>\n",
       "    <tr>\n",
       "      <th>count</th>\n",
       "      <td>1044.000000</td>\n",
       "      <td>1044.000000</td>\n",
       "      <td>1044.000000</td>\n",
       "      <td>1044.000000</td>\n",
       "      <td>1044.000000</td>\n",
       "    </tr>\n",
       "    <tr>\n",
       "      <th>mean</th>\n",
       "      <td>17.761494</td>\n",
       "      <td>17.744253</td>\n",
       "      <td>18.090038</td>\n",
       "      <td>0.534483</td>\n",
       "      <td>20.687739</td>\n",
       "    </tr>\n",
       "    <tr>\n",
       "      <th>std</th>\n",
       "      <td>10.454376</td>\n",
       "      <td>10.390954</td>\n",
       "      <td>10.453730</td>\n",
       "      <td>0.499049</td>\n",
       "      <td>16.114589</td>\n",
       "    </tr>\n",
       "    <tr>\n",
       "      <th>min</th>\n",
       "      <td>1.000000</td>\n",
       "      <td>1.000000</td>\n",
       "      <td>1.000000</td>\n",
       "      <td>0.000000</td>\n",
       "      <td>1.000000</td>\n",
       "    </tr>\n",
       "    <tr>\n",
       "      <th>25%</th>\n",
       "      <td>9.000000</td>\n",
       "      <td>9.000000</td>\n",
       "      <td>9.000000</td>\n",
       "      <td>0.000000</td>\n",
       "      <td>8.000000</td>\n",
       "    </tr>\n",
       "    <tr>\n",
       "      <th>50%</th>\n",
       "      <td>19.000000</td>\n",
       "      <td>19.000000</td>\n",
       "      <td>19.000000</td>\n",
       "      <td>1.000000</td>\n",
       "      <td>18.000000</td>\n",
       "    </tr>\n",
       "    <tr>\n",
       "      <th>75%</th>\n",
       "      <td>28.000000</td>\n",
       "      <td>26.000000</td>\n",
       "      <td>28.000000</td>\n",
       "      <td>1.000000</td>\n",
       "      <td>29.000000</td>\n",
       "    </tr>\n",
       "    <tr>\n",
       "      <th>max</th>\n",
       "      <td>35.000000</td>\n",
       "      <td>35.000000</td>\n",
       "      <td>35.000000</td>\n",
       "      <td>1.000000</td>\n",
       "      <td>86.000000</td>\n",
       "    </tr>\n",
       "  </tbody>\n",
       "</table>\n",
       "</div>"
      ],
      "text/plain": [
       "        AwayTeamID   HomeTeamID  WinningTeamID  HomeTeamWin    StadiumID\n",
       "count  1044.000000  1044.000000    1044.000000  1044.000000  1044.000000\n",
       "mean     17.761494    17.744253      18.090038     0.534483    20.687739\n",
       "std      10.454376    10.390954      10.453730     0.499049    16.114589\n",
       "min       1.000000     1.000000       1.000000     0.000000     1.000000\n",
       "25%       9.000000     9.000000       9.000000     0.000000     8.000000\n",
       "50%      19.000000    19.000000      19.000000     1.000000    18.000000\n",
       "75%      28.000000    26.000000      28.000000     1.000000    29.000000\n",
       "max      35.000000    35.000000      35.000000     1.000000    86.000000"
      ]
     },
     "execution_count": 91,
     "metadata": {},
     "output_type": "execute_result"
    }
   ],
   "source": [
    "# check how the numerical features are distributed\n",
    "numerical_features_df = referee_scores_df.select_dtypes(include=['float64', 'int64'])\n",
    "numerical_features_df.describe()"
   ]
  },
  {
   "cell_type": "code",
   "execution_count": 92,
   "metadata": {},
   "outputs": [
    {
     "data": {
      "image/png": "[encoded data removed]",
      "text/plain": [
       "<Figure size 1500x600 with 6 Axes>"
      ]
     },
     "metadata": {},
     "output_type": "display_data"
    }
   ],
   "source": [
    "referee_scores_df.hist(figsize=(15,6), grid=False)\n",
    "plt.tight_layout()\n",
    "plt.show()"
   ]
  },
  {
   "cell_type": "code",
   "execution_count": null,
   "metadata": {},
   "outputs": [],
   "source": [
    "# Create filter for data\n",
    "data_filter = (\n",
    "      (economic_data_df[\"Median Household Income\"]          != 0)\n",
    "    & (economic_data_df[\"Median Household Income (adj)\"]    != 0)\n",
    ")\n",
    "\n",
    "# Create a figure with four subplots arranged in 4 rows\n",
    "fig, axes = plt.subplots(4, 1, figsize=(20, 16))\n",
    "\n",
    "# Plot Median Household Income with Adjustment for Inflation in the first row\n",
    "axes[0].plot(\n",
    "      pd.to_datetime(economic_data_df[data_filter][\"Date\"]).dt.year\n",
    "    , economic_data_df[data_filter][\"Median Household Income\"]\n",
    "    , marker    = \"\"\n",
    "    , linestyle = \"-\"\n",
    "    , color     = \"blue\"\n",
    "    , label     = \"Median Household Income\"\n",
    ")"
   ]
  },
  {
   "cell_type": "code",
   "execution_count": 109,
   "metadata": {},
   "outputs": [
    {
     "data": {
      "text/html": [
       "<div>\n",
       "<style scoped>\n",
       "    .dataframe tbody tr th:only-of-type {\n",
       "        vertical-align: middle;\n",
       "    }\n",
       "\n",
       "    .dataframe tbody tr th {\n",
       "        vertical-align: top;\n",
       "    }\n",
       "\n",
       "    .dataframe thead th {\n",
       "        text-align: right;\n",
       "    }\n",
       "</style>\n",
       "<table border=\"1\" class=\"dataframe\">\n",
       "  <thead>\n",
       "    <tr style=\"text-align: right;\">\n",
       "      <th></th>\n",
       "      <th>AwayTeamID</th>\n",
       "      <th>HomeTeamID</th>\n",
       "      <th>WinningTeamID</th>\n",
       "      <th>HomeTeamWin</th>\n",
       "      <th>StadiumID</th>\n",
       "      <th>RefereeID</th>\n",
       "    </tr>\n",
       "  </thead>\n",
       "  <tbody>\n",
       "    <tr>\n",
       "      <th>14</th>\n",
       "      <td>28</td>\n",
       "      <td>23</td>\n",
       "      <td>28</td>\n",
       "      <td>0</td>\n",
       "      <td>3</td>\n",
       "      <td>119</td>\n",
       "    </tr>\n",
       "    <tr>\n",
       "      <th>30</th>\n",
       "      <td>21</td>\n",
       "      <td>30</td>\n",
       "      <td>30</td>\n",
       "      <td>1</td>\n",
       "      <td>31</td>\n",
       "      <td>119</td>\n",
       "    </tr>\n",
       "    <tr>\n",
       "      <th>40</th>\n",
       "      <td>24</td>\n",
       "      <td>14</td>\n",
       "      <td>14</td>\n",
       "      <td>1</td>\n",
       "      <td>9</td>\n",
       "      <td>119</td>\n",
       "    </tr>\n",
       "    <tr>\n",
       "      <th>48</th>\n",
       "      <td>14</td>\n",
       "      <td>6</td>\n",
       "      <td>14</td>\n",
       "      <td>0</td>\n",
       "      <td>20</td>\n",
       "      <td>119</td>\n",
       "    </tr>\n",
       "    <tr>\n",
       "      <th>72</th>\n",
       "      <td>23</td>\n",
       "      <td>9</td>\n",
       "      <td>9</td>\n",
       "      <td>1</td>\n",
       "      <td>17</td>\n",
       "      <td>119</td>\n",
       "    </tr>\n",
       "    <tr>\n",
       "      <th>...</th>\n",
       "      <td>...</td>\n",
       "      <td>...</td>\n",
       "      <td>...</td>\n",
       "      <td>...</td>\n",
       "      <td>...</td>\n",
       "      <td>...</td>\n",
       "    </tr>\n",
       "    <tr>\n",
       "      <th>973</th>\n",
       "      <td>20</td>\n",
       "      <td>25</td>\n",
       "      <td>20</td>\n",
       "      <td>0</td>\n",
       "      <td>53</td>\n",
       "      <td>119</td>\n",
       "    </tr>\n",
       "    <tr>\n",
       "      <th>992</th>\n",
       "      <td>9</td>\n",
       "      <td>4</td>\n",
       "      <td>4</td>\n",
       "      <td>1</td>\n",
       "      <td>1</td>\n",
       "      <td>119</td>\n",
       "    </tr>\n",
       "    <tr>\n",
       "      <th>999</th>\n",
       "      <td>7</td>\n",
       "      <td>28</td>\n",
       "      <td>28</td>\n",
       "      <td>1</td>\n",
       "      <td>8</td>\n",
       "      <td>119</td>\n",
       "    </tr>\n",
       "    <tr>\n",
       "      <th>1026</th>\n",
       "      <td>29</td>\n",
       "      <td>10</td>\n",
       "      <td>10</td>\n",
       "      <td>1</td>\n",
       "      <td>13</td>\n",
       "      <td>119</td>\n",
       "    </tr>\n",
       "    <tr>\n",
       "      <th>1037</th>\n",
       "      <td>26</td>\n",
       "      <td>23</td>\n",
       "      <td>23</td>\n",
       "      <td>1</td>\n",
       "      <td>3</td>\n",
       "      <td>119</td>\n",
       "    </tr>\n",
       "  </tbody>\n",
       "</table>\n",
       "<p>62 rows × 6 columns</p>\n",
       "</div>"
      ],
      "text/plain": [
       "      AwayTeamID  HomeTeamID  WinningTeamID  HomeTeamWin  StadiumID  RefereeID\n",
       "14            28          23             28            0          3        119\n",
       "30            21          30             30            1         31        119\n",
       "40            24          14             14            1          9        119\n",
       "48            14           6             14            0         20        119\n",
       "72            23           9              9            1         17        119\n",
       "...          ...         ...            ...          ...        ...        ...\n",
       "973           20          25             20            0         53        119\n",
       "992            9           4              4            1          1        119\n",
       "999            7          28             28            1          8        119\n",
       "1026          29          10             10            1         13        119\n",
       "1037          26          23             23            1          3        119\n",
       "\n",
       "[62 rows x 6 columns]"
      ]
     },
     "execution_count": 109,
     "metadata": {},
     "output_type": "execute_result"
    }
   ],
   "source": [
    "referee_scores_df[referee_scores_df[\"RefereeID\"] == 119]"
   ]
  },
  {
   "cell_type": "code",
   "execution_count": 112,
   "metadata": {},
   "outputs": [
    {
     "data": {
      "image/png": "[encoded data removed]",
      "text/plain": [
       "<Figure size 800x600 with 1 Axes>"
      ]
     },
     "metadata": {},
     "output_type": "display_data"
    }
   ],
   "source": [
    "plt.figure(figsize=(8,6))\n",
    "sns.scatterplot(\n",
    "    data=referee_scores_df[referee_scores_df[\"RefereeID\"] == 119]\n",
    "    , x='RefereeID'\n",
    "    , y='HomeTeamID'\n",
    "    , hue='HomeTeamWin')\n",
    "plt.show()"
   ]
  },
  {
   "cell_type": "code",
   "execution_count": 127,
   "metadata": {},
   "outputs": [
    {
     "data": {
      "text/html": [
       "<div>\n",
       "<style scoped>\n",
       "    .dataframe tbody tr th:only-of-type {\n",
       "        vertical-align: middle;\n",
       "    }\n",
       "\n",
       "    .dataframe tbody tr th {\n",
       "        vertical-align: top;\n",
       "    }\n",
       "\n",
       "    .dataframe thead th {\n",
       "        text-align: right;\n",
       "    }\n",
       "</style>\n",
       "<table border=\"1\" class=\"dataframe\">\n",
       "  <thead>\n",
       "    <tr style=\"text-align: right;\">\n",
       "      <th></th>\n",
       "      <th>RefereeID</th>\n",
       "      <th>HomeTeamWin</th>\n",
       "      <th>Count</th>\n",
       "    </tr>\n",
       "  </thead>\n",
       "  <tbody>\n",
       "    <tr>\n",
       "      <th>0</th>\n",
       "      <td>1</td>\n",
       "      <td>0</td>\n",
       "      <td>29</td>\n",
       "    </tr>\n",
       "    <tr>\n",
       "      <th>1</th>\n",
       "      <td>1</td>\n",
       "      <td>1</td>\n",
       "      <td>34</td>\n",
       "    </tr>\n",
       "    <tr>\n",
       "      <th>2</th>\n",
       "      <td>9</td>\n",
       "      <td>0</td>\n",
       "      <td>12</td>\n",
       "    </tr>\n",
       "    <tr>\n",
       "      <th>3</th>\n",
       "      <td>9</td>\n",
       "      <td>1</td>\n",
       "      <td>18</td>\n",
       "    </tr>\n",
       "    <tr>\n",
       "      <th>4</th>\n",
       "      <td>10</td>\n",
       "      <td>0</td>\n",
       "      <td>26</td>\n",
       "    </tr>\n",
       "    <tr>\n",
       "      <th>5</th>\n",
       "      <td>10</td>\n",
       "      <td>1</td>\n",
       "      <td>35</td>\n",
       "    </tr>\n",
       "    <tr>\n",
       "      <th>6</th>\n",
       "      <td>12</td>\n",
       "      <td>0</td>\n",
       "      <td>19</td>\n",
       "    </tr>\n",
       "    <tr>\n",
       "      <th>7</th>\n",
       "      <td>12</td>\n",
       "      <td>1</td>\n",
       "      <td>27</td>\n",
       "    </tr>\n",
       "    <tr>\n",
       "      <th>8</th>\n",
       "      <td>23</td>\n",
       "      <td>0</td>\n",
       "      <td>29</td>\n",
       "    </tr>\n",
       "    <tr>\n",
       "      <th>9</th>\n",
       "      <td>23</td>\n",
       "      <td>1</td>\n",
       "      <td>34</td>\n",
       "    </tr>\n",
       "    <tr>\n",
       "      <th>10</th>\n",
       "      <td>24</td>\n",
       "      <td>0</td>\n",
       "      <td>32</td>\n",
       "    </tr>\n",
       "    <tr>\n",
       "      <th>11</th>\n",
       "      <td>24</td>\n",
       "      <td>1</td>\n",
       "      <td>28</td>\n",
       "    </tr>\n",
       "    <tr>\n",
       "      <th>12</th>\n",
       "      <td>28</td>\n",
       "      <td>0</td>\n",
       "      <td>16</td>\n",
       "    </tr>\n",
       "    <tr>\n",
       "      <th>13</th>\n",
       "      <td>28</td>\n",
       "      <td>1</td>\n",
       "      <td>14</td>\n",
       "    </tr>\n",
       "    <tr>\n",
       "      <th>14</th>\n",
       "      <td>32</td>\n",
       "      <td>0</td>\n",
       "      <td>3</td>\n",
       "    </tr>\n",
       "    <tr>\n",
       "      <th>15</th>\n",
       "      <td>32</td>\n",
       "      <td>1</td>\n",
       "      <td>13</td>\n",
       "    </tr>\n",
       "    <tr>\n",
       "      <th>16</th>\n",
       "      <td>47</td>\n",
       "      <td>0</td>\n",
       "      <td>32</td>\n",
       "    </tr>\n",
       "    <tr>\n",
       "      <th>17</th>\n",
       "      <td>47</td>\n",
       "      <td>1</td>\n",
       "      <td>31</td>\n",
       "    </tr>\n",
       "    <tr>\n",
       "      <th>18</th>\n",
       "      <td>51</td>\n",
       "      <td>0</td>\n",
       "      <td>30</td>\n",
       "    </tr>\n",
       "    <tr>\n",
       "      <th>19</th>\n",
       "      <td>51</td>\n",
       "      <td>1</td>\n",
       "      <td>30</td>\n",
       "    </tr>\n",
       "    <tr>\n",
       "      <th>20</th>\n",
       "      <td>53</td>\n",
       "      <td>0</td>\n",
       "      <td>19</td>\n",
       "    </tr>\n",
       "    <tr>\n",
       "      <th>21</th>\n",
       "      <td>53</td>\n",
       "      <td>1</td>\n",
       "      <td>43</td>\n",
       "    </tr>\n",
       "    <tr>\n",
       "      <th>22</th>\n",
       "      <td>59</td>\n",
       "      <td>0</td>\n",
       "      <td>33</td>\n",
       "    </tr>\n",
       "    <tr>\n",
       "      <th>23</th>\n",
       "      <td>59</td>\n",
       "      <td>1</td>\n",
       "      <td>30</td>\n",
       "    </tr>\n",
       "    <tr>\n",
       "      <th>24</th>\n",
       "      <td>66</td>\n",
       "      <td>0</td>\n",
       "      <td>29</td>\n",
       "    </tr>\n",
       "    <tr>\n",
       "      <th>25</th>\n",
       "      <td>66</td>\n",
       "      <td>1</td>\n",
       "      <td>31</td>\n",
       "    </tr>\n",
       "    <tr>\n",
       "      <th>26</th>\n",
       "      <td>76</td>\n",
       "      <td>0</td>\n",
       "      <td>37</td>\n",
       "    </tr>\n",
       "    <tr>\n",
       "      <th>27</th>\n",
       "      <td>76</td>\n",
       "      <td>1</td>\n",
       "      <td>24</td>\n",
       "    </tr>\n",
       "    <tr>\n",
       "      <th>28</th>\n",
       "      <td>94</td>\n",
       "      <td>0</td>\n",
       "      <td>25</td>\n",
       "    </tr>\n",
       "    <tr>\n",
       "      <th>29</th>\n",
       "      <td>94</td>\n",
       "      <td>1</td>\n",
       "      <td>32</td>\n",
       "    </tr>\n",
       "    <tr>\n",
       "      <th>30</th>\n",
       "      <td>101</td>\n",
       "      <td>0</td>\n",
       "      <td>35</td>\n",
       "    </tr>\n",
       "    <tr>\n",
       "      <th>31</th>\n",
       "      <td>101</td>\n",
       "      <td>1</td>\n",
       "      <td>27</td>\n",
       "    </tr>\n",
       "    <tr>\n",
       "      <th>32</th>\n",
       "      <td>110</td>\n",
       "      <td>0</td>\n",
       "      <td>21</td>\n",
       "    </tr>\n",
       "    <tr>\n",
       "      <th>33</th>\n",
       "      <td>110</td>\n",
       "      <td>1</td>\n",
       "      <td>41</td>\n",
       "    </tr>\n",
       "    <tr>\n",
       "      <th>34</th>\n",
       "      <td>112</td>\n",
       "      <td>0</td>\n",
       "      <td>31</td>\n",
       "    </tr>\n",
       "    <tr>\n",
       "      <th>35</th>\n",
       "      <td>112</td>\n",
       "      <td>1</td>\n",
       "      <td>32</td>\n",
       "    </tr>\n",
       "    <tr>\n",
       "      <th>36</th>\n",
       "      <td>119</td>\n",
       "      <td>0</td>\n",
       "      <td>28</td>\n",
       "    </tr>\n",
       "    <tr>\n",
       "      <th>37</th>\n",
       "      <td>119</td>\n",
       "      <td>1</td>\n",
       "      <td>34</td>\n",
       "    </tr>\n",
       "  </tbody>\n",
       "</table>\n",
       "</div>"
      ],
      "text/plain": [
       "    RefereeID  HomeTeamWin  Count\n",
       "0           1            0     29\n",
       "1           1            1     34\n",
       "2           9            0     12\n",
       "3           9            1     18\n",
       "4          10            0     26\n",
       "5          10            1     35\n",
       "6          12            0     19\n",
       "7          12            1     27\n",
       "8          23            0     29\n",
       "9          23            1     34\n",
       "10         24            0     32\n",
       "11         24            1     28\n",
       "12         28            0     16\n",
       "13         28            1     14\n",
       "14         32            0      3\n",
       "15         32            1     13\n",
       "16         47            0     32\n",
       "17         47            1     31\n",
       "18         51            0     30\n",
       "19         51            1     30\n",
       "20         53            0     19\n",
       "21         53            1     43\n",
       "22         59            0     33\n",
       "23         59            1     30\n",
       "24         66            0     29\n",
       "25         66            1     31\n",
       "26         76            0     37\n",
       "27         76            1     24\n",
       "28         94            0     25\n",
       "29         94            1     32\n",
       "30        101            0     35\n",
       "31        101            1     27\n",
       "32        110            0     21\n",
       "33        110            1     41\n",
       "34        112            0     31\n",
       "35        112            1     32\n",
       "36        119            0     28\n",
       "37        119            1     34"
      ]
     },
     "metadata": {},
     "output_type": "display_data"
    },
    {
     "data": {
      "text/html": [
       "<div>\n",
       "<style scoped>\n",
       "    .dataframe tbody tr th:only-of-type {\n",
       "        vertical-align: middle;\n",
       "    }\n",
       "\n",
       "    .dataframe tbody tr th {\n",
       "        vertical-align: top;\n",
       "    }\n",
       "\n",
       "    .dataframe thead th {\n",
       "        text-align: right;\n",
       "    }\n",
       "</style>\n",
       "<table border=\"1\" class=\"dataframe\">\n",
       "  <thead>\n",
       "    <tr style=\"text-align: right;\">\n",
       "      <th></th>\n",
       "      <th>RefereeID</th>\n",
       "      <th>TeamID</th>\n",
       "      <th>Wins</th>\n",
       "      <th>HomeTeamCount</th>\n",
       "      <th>AwayTeamCount</th>\n",
       "      <th>GameCount</th>\n",
       "      <th>Win_Pct</th>\n",
       "      <th>Loss_Pct</th>\n",
       "    </tr>\n",
       "  </thead>\n",
       "  <tbody>\n",
       "    <tr>\n",
       "      <th>0</th>\n",
       "      <td>1</td>\n",
       "      <td>1</td>\n",
       "      <td>1</td>\n",
       "      <td>0</td>\n",
       "      <td>2</td>\n",
       "      <td>2</td>\n",
       "      <td>0.500000</td>\n",
       "      <td>0.500000</td>\n",
       "    </tr>\n",
       "    <tr>\n",
       "      <th>1</th>\n",
       "      <td>1</td>\n",
       "      <td>2</td>\n",
       "      <td>1</td>\n",
       "      <td>3</td>\n",
       "      <td>1</td>\n",
       "      <td>4</td>\n",
       "      <td>0.250000</td>\n",
       "      <td>0.750000</td>\n",
       "    </tr>\n",
       "    <tr>\n",
       "      <th>2</th>\n",
       "      <td>1</td>\n",
       "      <td>3</td>\n",
       "      <td>2</td>\n",
       "      <td>4</td>\n",
       "      <td>2</td>\n",
       "      <td>6</td>\n",
       "      <td>0.333333</td>\n",
       "      <td>0.666667</td>\n",
       "    </tr>\n",
       "    <tr>\n",
       "      <th>3</th>\n",
       "      <td>1</td>\n",
       "      <td>4</td>\n",
       "      <td>2</td>\n",
       "      <td>0</td>\n",
       "      <td>2</td>\n",
       "      <td>2</td>\n",
       "      <td>1.000000</td>\n",
       "      <td>0.000000</td>\n",
       "    </tr>\n",
       "    <tr>\n",
       "      <th>4</th>\n",
       "      <td>1</td>\n",
       "      <td>5</td>\n",
       "      <td>2</td>\n",
       "      <td>2</td>\n",
       "      <td>2</td>\n",
       "      <td>4</td>\n",
       "      <td>0.500000</td>\n",
       "      <td>0.500000</td>\n",
       "    </tr>\n",
       "    <tr>\n",
       "      <th>...</th>\n",
       "      <td>...</td>\n",
       "      <td>...</td>\n",
       "      <td>...</td>\n",
       "      <td>...</td>\n",
       "      <td>...</td>\n",
       "      <td>...</td>\n",
       "      <td>...</td>\n",
       "      <td>...</td>\n",
       "    </tr>\n",
       "    <tr>\n",
       "      <th>506</th>\n",
       "      <td>119</td>\n",
       "      <td>30</td>\n",
       "      <td>3</td>\n",
       "      <td>4</td>\n",
       "      <td>0</td>\n",
       "      <td>4</td>\n",
       "      <td>0.750000</td>\n",
       "      <td>0.250000</td>\n",
       "    </tr>\n",
       "    <tr>\n",
       "      <th>507</th>\n",
       "      <td>119</td>\n",
       "      <td>31</td>\n",
       "      <td>3</td>\n",
       "      <td>2</td>\n",
       "      <td>3</td>\n",
       "      <td>5</td>\n",
       "      <td>0.600000</td>\n",
       "      <td>0.400000</td>\n",
       "    </tr>\n",
       "    <tr>\n",
       "      <th>508</th>\n",
       "      <td>119</td>\n",
       "      <td>32</td>\n",
       "      <td>2</td>\n",
       "      <td>3</td>\n",
       "      <td>2</td>\n",
       "      <td>5</td>\n",
       "      <td>0.400000</td>\n",
       "      <td>0.600000</td>\n",
       "    </tr>\n",
       "    <tr>\n",
       "      <th>509</th>\n",
       "      <td>119</td>\n",
       "      <td>33</td>\n",
       "      <td>1</td>\n",
       "      <td>1</td>\n",
       "      <td>3</td>\n",
       "      <td>4</td>\n",
       "      <td>0.250000</td>\n",
       "      <td>0.750000</td>\n",
       "    </tr>\n",
       "    <tr>\n",
       "      <th>510</th>\n",
       "      <td>119</td>\n",
       "      <td>35</td>\n",
       "      <td>1</td>\n",
       "      <td>0</td>\n",
       "      <td>1</td>\n",
       "      <td>1</td>\n",
       "      <td>1.000000</td>\n",
       "      <td>0.000000</td>\n",
       "    </tr>\n",
       "  </tbody>\n",
       "</table>\n",
       "<p>511 rows × 8 columns</p>\n",
       "</div>"
      ],
      "text/plain": [
       "     RefereeID  TeamID  Wins  HomeTeamCount  AwayTeamCount  GameCount  \\\n",
       "0            1       1     1              0              2          2   \n",
       "1            1       2     1              3              1          4   \n",
       "2            1       3     2              4              2          6   \n",
       "3            1       4     2              0              2          2   \n",
       "4            1       5     2              2              2          4   \n",
       "..         ...     ...   ...            ...            ...        ...   \n",
       "506        119      30     3              4              0          4   \n",
       "507        119      31     3              2              3          5   \n",
       "508        119      32     2              3              2          5   \n",
       "509        119      33     1              1              3          4   \n",
       "510        119      35     1              0              1          1   \n",
       "\n",
       "      Win_Pct  Loss_Pct  \n",
       "0    0.500000  0.500000  \n",
       "1    0.250000  0.750000  \n",
       "2    0.333333  0.666667  \n",
       "3    1.000000  0.000000  \n",
       "4    0.500000  0.500000  \n",
       "..        ...       ...  \n",
       "506  0.750000  0.250000  \n",
       "507  0.600000  0.400000  \n",
       "508  0.400000  0.600000  \n",
       "509  0.250000  0.750000  \n",
       "510  1.000000  0.000000  \n",
       "\n",
       "[511 rows x 8 columns]"
      ]
     },
     "metadata": {},
     "output_type": "display_data"
    }
   ],
   "source": [
    "# Group the data by referee, winning team, and team type (HomeTeam or AwayTeam), and count occurrences\n",
    "referee_winning_team_counts = referee_scores_df.groupby([\"RefereeID\", 'WinningTeamID']).size().reset_index(name='Count')\n",
    "referee_away_team_counts    = referee_scores_df.groupby([\"RefereeID\", 'AwayTeamID']).size().reset_index(name='Count')\n",
    "referee_home_team_counts    = referee_scores_df.groupby([\"RefereeID\", 'HomeTeamID']).size().reset_index(name='Count')\n",
    "referee_home_team_win_cnts  = referee_scores_df.groupby([\"RefereeID\", 'HomeTeamWin']).size().reset_index(name='Count')\n",
    "\n",
    "display(referee_home_team_win_cnts)\n",
    "\n",
    "referee_winning_team_counts = referee_winning_team_counts.rename(columns={\"WinningTeamID\":\"TeamID\", \"Count\":\"Wins\"})\n",
    "referee_away_team_counts    = referee_away_team_counts.rename(columns={\"AwayTeamID\":\"TeamID\", \"Count\":\"AwayTeamCount\"})\n",
    "referee_home_team_counts    = referee_home_team_counts.rename(columns={\"HomeTeamID\":\"TeamID\", \"Count\":\"HomeTeamCount\"})\n",
    "\n",
    "referees_teams_df = pd.merge(\n",
    "      referee_winning_team_counts\n",
    "    , referee_home_team_counts\n",
    "    , on    = [\"RefereeID\", \"TeamID\"]\n",
    "    , how   = \"left\"\n",
    ")\n",
    "\n",
    "referees_teams_df = pd.merge(\n",
    "      referees_teams_df\n",
    "    , referee_away_team_counts\n",
    "    , on    = [\"RefereeID\", \"TeamID\"]\n",
    "    , how   = \"left\"\n",
    ")\n",
    "\n",
    "referees_teams_df.fillna(0, inplace=True)\n",
    "referees_teams_df[\"GameCount\"]  = referees_teams_df[\"HomeTeamCount\"]  + referees_teams_df[\"AwayTeamCount\"] \n",
    "referees_teams_df[\"Win_Pct\"]    = referees_teams_df[\"Wins\"] / referees_teams_df[\"GameCount\"]\n",
    "referees_teams_df[\"Loss_Pct\"]   = (referees_teams_df[\"GameCount\"] - referees_teams_df[\"Wins\"]) / referees_teams_df[\"GameCount\"]\n",
    "referees_teams_df[\"HomeTeamCount\"] = referees_teams_df[\"HomeTeamCount\"].astype(int)\n",
    "referees_teams_df[\"AwayTeamCount\"] = referees_teams_df[\"AwayTeamCount\"].astype(int)\n",
    "referees_teams_df[\"GameCount\"] = referees_teams_df[\"GameCount\"].astype(int)\n",
    "\n",
    "display(referees_teams_df)"
   ]
  },
  {
   "cell_type": "code",
   "execution_count": 175,
   "metadata": {},
   "outputs": [
    {
     "data": {
      "image/png": "[encoded data removed]",
      "text/plain": [
       "<Figure size 800x600 with 1 Axes>"
      ]
     },
     "metadata": {},
     "output_type": "display_data"
    }
   ],
   "source": [
    "\n",
    "\n",
    "\n",
    "plt.figure(figsize=(8,6))\n",
    "#sns.scatterplot(\n",
    "#    data=referee_home_team_win_cnts[referee_home_team_win_cnts[\"RefereeID\"] == 119]\n",
    "#    , x='RefereeID'\n",
    "#    , y='Count'\n",
    "#    , hue=\"HomeTeamWin\"\n",
    "#)\n",
    "\n",
    "x_values_1  = referee_home_team_win_cnts[referee_home_team_win_cnts[\"HomeTeamWin\"] == 0][\"RefereeID\"]\n",
    "y_segment_1 = referee_home_team_win_cnts[referee_home_team_win_cnts[\"HomeTeamWin\"] == 0][\"Count\"]\n",
    "\n",
    "x_values_2  = referee_home_team_win_cnts[referee_home_team_win_cnts[\"HomeTeamWin\"] == 1][\"RefereeID\"]\n",
    "y_segment_2 = referee_home_team_win_cnts[referee_home_team_win_cnts[\"HomeTeamWin\"] == 1][\"Count\"]\n",
    "\n",
    "plt.bar(\n",
    "      referee_by_team_win_type[\"RefereeID\"]\n",
    "    , referee_by_team_win_type[\"AwayTeamWins\"]\n",
    "    , label   = \"Away Team Win\"\n",
    "    #, color = \"b\"\n",
    ")\n",
    "\n",
    "plt.bar(\n",
    "      referee_by_team_win_type[\"RefereeID\"]\n",
    "    , referee_by_team_win_type[\"HomeTeamWins\"]\n",
    "    , label = \"Home Team Win\"\n",
    "    #, color = \"r\"\n",
    "    , bottom  = referee_by_team_win_type[\"AwayTeamWins\"]\n",
    "  )\n",
    "\n",
    "#plt.title(\"Referee vs Home/Away Wins\")\n",
    "#plt.ylabel(\"Games\")\n",
    "plt.legend()\n",
    "plt.show()\n"
   ]
  }
 ],
 "metadata": {
  "kernelspec": {
   "display_name": "dev-ai",
   "language": "python",
   "name": "python3"
  },
  "language_info": {
   "codemirror_mode": {
    "name": "ipython",
    "version": 3
   },
   "file_extension": ".py",
   "mimetype": "text/x-python",
   "name": "python",
   "nbconvert_exporter": "python",
   "pygments_lexer": "ipython3",
   "version": "3.12.1"
  }
 },
 "nbformat": 4,
 "nbformat_minor": 2
}
